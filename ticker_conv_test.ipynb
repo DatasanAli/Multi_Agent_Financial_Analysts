{
 "cells": [
  {
   "cell_type": "code",
   "execution_count": null,
   "id": "23c3ef18",
   "metadata": {},
   "outputs": [
    {
     "name": "stdout",
     "output_type": "stream",
     "text": [
      "{'ticker': 'AAPL', 'cik': '0000320193', 'title': 'Apple Inc.'}\n"
     ]
    }
   ],
   "source": [
    "from resolver import resolve_ticker_to_cik\n",
    "\n",
    "info = resolve_ticker_to_cik(\"AAPL\")\n",
    "print(info)\n"
   ]
  }
 ],
 "metadata": {
  "kernelspec": {
   "display_name": "AAI_Courses",
   "language": "python",
   "name": "python3"
  },
  "language_info": {
   "codemirror_mode": {
    "name": "ipython",
    "version": 3
   },
   "file_extension": ".py",
   "mimetype": "text/x-python",
   "name": "python",
   "nbconvert_exporter": "python",
   "pygments_lexer": "ipython3",
   "version": "3.12.11"
  }
 },
 "nbformat": 4,
 "nbformat_minor": 5
}
